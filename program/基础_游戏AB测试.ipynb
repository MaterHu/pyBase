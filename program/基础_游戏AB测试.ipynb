{
 "cells": [
  {
   "cell_type": "markdown",
   "id": "12ef4a09-c9d8-4932-b0e3-b0d085b5194d",
   "metadata": {},
   "source": [
    "# 数据准备"
   ]
  },
  {
   "cell_type": "code",
   "id": "81ac24ae-70a2-46ef-a240-2a77a6dd9b7b",
   "metadata": {
    "ExecuteTime": {
     "end_time": "2025-09-14T02:33:28.788008Z",
     "start_time": "2025-09-14T02:33:12.993784Z"
    }
   },
   "source": [
    "#导入包与读取数据\n",
    "import numpy as np\n",
    "import pandas as pd\n",
    "import statsmodels.stats.proportion as ssp\n",
    "\n",
    "data = pd.read_csv(r'D:\\pythonstudy\\game2.csv')\n",
    "print(data.head(5))\n",
    "print(data.info())\n",
    "\n",
    "#字段解释\n",
    "#version为版本\n",
    "#sum_gamerounds为玩家玩的回数\n",
    "#retention_1为次日留存率\n",
    "#retention_2为七日留存率"
   ],
   "outputs": [
    {
     "name": "stdout",
     "output_type": "stream",
     "text": [
      "   userid  version  sum_gamerounds  retention_1  retention_7\n",
      "0     116  gate_30               3        False        False\n",
      "1     337  gate_30              38         True        False\n",
      "2     377  gate_40             165         True        False\n",
      "3     483  gate_40               1        False        False\n",
      "4     488  gate_40             179         True         True\n",
      "<class 'pandas.core.frame.DataFrame'>\n",
      "RangeIndex: 90189 entries, 0 to 90188\n",
      "Data columns (total 5 columns):\n",
      " #   Column          Non-Null Count  Dtype \n",
      "---  ------          --------------  ----- \n",
      " 0   userid          90189 non-null  int64 \n",
      " 1   version         90189 non-null  object\n",
      " 2   sum_gamerounds  90189 non-null  int64 \n",
      " 3   retention_1     90189 non-null  bool  \n",
      " 4   retention_7     90189 non-null  bool  \n",
      "dtypes: bool(2), int64(2), object(1)\n",
      "memory usage: 2.2+ MB\n",
      "None\n"
     ]
    }
   ],
   "execution_count": 1
  },
  {
   "cell_type": "code",
   "id": "9076d87e-e79a-43b8-a5a0-f01d125ae89e",
   "metadata": {
    "ExecuteTime": {
     "end_time": "2025-09-14T02:33:33.011995Z",
     "start_time": "2025-09-14T02:33:32.924051Z"
    }
   },
   "source": [
    "#数据清洗：空值 重复值 异常值\n",
    "print('data.isnull:\\n',data.isnull().sum())\n",
    "print('data.duplicated:',data.duplicated().sum())\n",
    "\n",
    "print('版本：', data.version.unique())\n",
    "print('次日留存率：', data.retention_1.unique())\n",
    "print('七日留存率：', data.retention_7.unique())\n",
    "\n",
    "#该数据比较干净，没有需要清洗的值"
   ],
   "outputs": [
    {
     "name": "stdout",
     "output_type": "stream",
     "text": [
      "data.isnull:\n",
      " userid            0\n",
      "version           0\n",
      "sum_gamerounds    0\n",
      "retention_1       0\n",
      "retention_7       0\n",
      "dtype: int64\n",
      "data.duplicated: 0\n",
      "版本： ['gate_30' 'gate_40']\n",
      "次日留存率： [False  True]\n",
      "七日留存率： [False  True]\n"
     ]
    }
   ],
   "execution_count": 2
  },
  {
   "cell_type": "markdown",
   "id": "40c32739-9da1-4573-9d1a-896dafdc3055",
   "metadata": {},
   "source": [
    "# 假设检验\n",
    "- 确定样本分布类型进行相关假设检验\n",
    "- 验证并得出结论"
   ]
  },
  {
   "cell_type": "code",
   "id": "60ba6365-11f4-4239-b7d7-eb889c64b5c1",
   "metadata": {
    "ExecuteTime": {
     "end_time": "2025-09-14T02:33:37.665366Z",
     "start_time": "2025-09-14T02:33:37.497982Z"
    }
   },
   "source": [
    "#提取分析所需数据\n",
    "retention = data.groupby('version').agg({'userid':'count','retention_1':'sum','retention_7':'sum'})\n",
    "retention"
   ],
   "outputs": [
    {
     "data": {
      "text/plain": [
       "         userid  retention_1  retention_7\n",
       "version                                  \n",
       "gate_30   44700        20034         8502\n",
       "gate_40   45489        20119         8279"
      ],
      "text/html": [
       "<div>\n",
       "<style scoped>\n",
       "    .dataframe tbody tr th:only-of-type {\n",
       "        vertical-align: middle;\n",
       "    }\n",
       "\n",
       "    .dataframe tbody tr th {\n",
       "        vertical-align: top;\n",
       "    }\n",
       "\n",
       "    .dataframe thead th {\n",
       "        text-align: right;\n",
       "    }\n",
       "</style>\n",
       "<table border=\"1\" class=\"dataframe\">\n",
       "  <thead>\n",
       "    <tr style=\"text-align: right;\">\n",
       "      <th></th>\n",
       "      <th>userid</th>\n",
       "      <th>retention_1</th>\n",
       "      <th>retention_7</th>\n",
       "    </tr>\n",
       "    <tr>\n",
       "      <th>version</th>\n",
       "      <th></th>\n",
       "      <th></th>\n",
       "      <th></th>\n",
       "    </tr>\n",
       "  </thead>\n",
       "  <tbody>\n",
       "    <tr>\n",
       "      <th>gate_30</th>\n",
       "      <td>44700</td>\n",
       "      <td>20034</td>\n",
       "      <td>8502</td>\n",
       "    </tr>\n",
       "    <tr>\n",
       "      <th>gate_40</th>\n",
       "      <td>45489</td>\n",
       "      <td>20119</td>\n",
       "      <td>8279</td>\n",
       "    </tr>\n",
       "  </tbody>\n",
       "</table>\n",
       "</div>"
      ]
     },
     "execution_count": 3,
     "metadata": {},
     "output_type": "execute_result"
    }
   ],
   "execution_count": 3
  },
  {
   "cell_type": "markdown",
   "id": "d314b833-459b-4b85-ac19-4d08233be861",
   "metadata": {},
   "source": [
    "1. 假设检验：原假设和备择假设\n",
    "设gate_30概率为P1，gate_40概率为P2，可得假设：\n",
    "原假设H0：P1≥P2\n",
    "备择假设Ha：P1<P2\n",
    "2. 分布类型、检验类型和显著性水平\n",
    "大样本，采用Z检验。显著性水平α取0.05"
   ]
  },
  {
   "cell_type": "code",
   "id": "a304f72a-1ec6-4f67-9c47-37ce4e537bb8",
   "metadata": {
    "ExecuteTime": {
     "end_time": "2025-09-14T02:33:42.043084Z",
     "start_time": "2025-09-14T02:33:42.029212Z"
    }
   },
   "source": [
    "retention_rate = pd.DataFrame(index = ['gate_30','gate_40'],columns = ['次日留存率','七日留存率'])\n",
    "for i in range(0,2):\n",
    "    retention_rate.iloc[i,1] = retention.iloc[i,2] / retention.iloc[i,0]\n",
    "    retention_rate.iloc[i,0] = retention.iloc[i,1] / retention.iloc[i,0] \n",
    "retention_rate"
   ],
   "outputs": [
    {
     "data": {
      "text/plain": [
       "            次日留存率     七日留存率\n",
       "gate_30  0.448188  0.190201\n",
       "gate_40  0.442283     0.182"
      ],
      "text/html": [
       "<div>\n",
       "<style scoped>\n",
       "    .dataframe tbody tr th:only-of-type {\n",
       "        vertical-align: middle;\n",
       "    }\n",
       "\n",
       "    .dataframe tbody tr th {\n",
       "        vertical-align: top;\n",
       "    }\n",
       "\n",
       "    .dataframe thead th {\n",
       "        text-align: right;\n",
       "    }\n",
       "</style>\n",
       "<table border=\"1\" class=\"dataframe\">\n",
       "  <thead>\n",
       "    <tr style=\"text-align: right;\">\n",
       "      <th></th>\n",
       "      <th>次日留存率</th>\n",
       "      <th>七日留存率</th>\n",
       "    </tr>\n",
       "  </thead>\n",
       "  <tbody>\n",
       "    <tr>\n",
       "      <th>gate_30</th>\n",
       "      <td>0.448188</td>\n",
       "      <td>0.190201</td>\n",
       "    </tr>\n",
       "    <tr>\n",
       "      <th>gate_40</th>\n",
       "      <td>0.442283</td>\n",
       "      <td>0.182</td>\n",
       "    </tr>\n",
       "  </tbody>\n",
       "</table>\n",
       "</div>"
      ]
     },
     "execution_count": 4,
     "metadata": {},
     "output_type": "execute_result"
    }
   ],
   "execution_count": 4
  },
  {
   "cell_type": "code",
   "id": "d7146bf4-c4cd-41c1-8705-4b6ba94d9ddd",
   "metadata": {
    "ExecuteTime": {
     "end_time": "2025-09-14T02:33:44.441941Z",
     "start_time": "2025-09-14T02:33:44.340412Z"
    }
   },
   "source": [
    "# 次日留存率的检验\n",
    "z_score, p_value = ssp.proportions_ztest(count = retention.retention_1, nobs = retention.userid, alternative='smaller')\n",
    "print(\"Z值为：\", z_score)\n",
    "print(\"P值为：\", p_value)\n",
    "\n",
    "alpha = 0.05\n",
    "if p_value < alpha:\n",
    "    print(f\"\\n由于 P 值 ({p_value:.4f}) 小于显著性水平 ({alpha})，我们拒绝原假设。\")\n",
    "    print(\"结论：结论：两个版本的次日留存率存在显著差异，gate_30的留存率更高。\")\n",
    "else:\n",
    "    print(f\"\\n由于 P 值 ({p_value:.4f}) 大于显著性水平 ({alpha})，我们无法拒绝原假设。\")\n",
    "    print(\"结论：两个版本的次日留存率没有显著差异。\")"
   ],
   "outputs": [
    {
     "name": "stdout",
     "output_type": "stream",
     "text": [
      "Z值为： 1.7840862247974725\n",
      "P值为： 0.9627951723515404\n",
      "\n",
      "由于 P 值 (0.9628) 大于显著性水平 (0.05)，我们无法拒绝原假设。\n",
      "结论：两个版本的次日留存率没有显著差异。\n"
     ]
    }
   ],
   "execution_count": 5
  },
  {
   "cell_type": "code",
   "id": "3ba9966a-e2df-4273-8303-8d57cd51a01b",
   "metadata": {
    "ExecuteTime": {
     "end_time": "2025-09-14T02:33:47.910880Z",
     "start_time": "2025-09-14T02:33:47.905140Z"
    }
   },
   "source": [
    "# 七日留存率\n",
    "z_score, p_value = ssp.proportions_ztest(count = retention.retention_7, nobs = retention.userid, alternative='smaller')\n",
    "print(\"Z值为：\", z_score)\n",
    "print(\"P值为：\", p_value)\n",
    "\n",
    "alpha = 0.05\n",
    "if p_value < alpha:\n",
    "    print(f\"\\n由于 P 值 ({p_value:.4f}) 小于显著性水平 ({alpha})，我们拒绝原假设。\")\n",
    "    print(\"结论：两个版本的七日留存率存在显著差异，gate_30的留存率更高。\")\n",
    "else:\n",
    "    print(f\"\\n由于 P 值 ({p_value:.4f}) 大于显著性水平 ({alpha})，我们无法拒绝原假设。\")\n",
    "    print(\"结论：两个版本的七日留存率没有显著差异。\")"
   ],
   "outputs": [
    {
     "name": "stdout",
     "output_type": "stream",
     "text": [
      "Z值为： 3.164358912748191\n",
      "P值为： 0.9992228750121929\n",
      "\n",
      "由于 P 值 (0.9992) 大于显著性水平 (0.05)，我们无法拒绝原假设。\n",
      "结论：两个版本的七日留存率没有显著差异。\n"
     ]
    }
   ],
   "execution_count": 6
  },
  {
   "cell_type": "code",
   "execution_count": null,
   "id": "c7f45c92-c60a-49f8-b562-9f1b76fabf20",
   "metadata": {},
   "outputs": [],
   "source": []
  }
 ],
 "metadata": {
  "kernelspec": {
   "display_name": "Python 3 (ipykernel)",
   "language": "python",
   "name": "python3"
  },
  "language_info": {
   "codemirror_mode": {
    "name": "ipython",
    "version": 3
   },
   "file_extension": ".py",
   "mimetype": "text/x-python",
   "name": "python",
   "nbconvert_exporter": "python",
   "pygments_lexer": "ipython3",
   "version": "3.13.2"
  }
 },
 "nbformat": 4,
 "nbformat_minor": 5
}
